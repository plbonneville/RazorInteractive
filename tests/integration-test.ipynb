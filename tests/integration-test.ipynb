{
 "cells": [
  {
   "cell_type": "code",
   "execution_count": null,
   "metadata": {
    "dotnet_interactive": {
     "language": "pwsh"
    }
   },
   "outputs": [
    {
     "name": "stdout",
     "output_type": "stream",
     "text": [
      "Microsoft (R) Build Engine version 17.0.0+c9eb9dd64 for .NET\n",
      "Copyright (C) Microsoft Corporation. All rights reserved.\n",
      "\n",
      "  Determining projects to restore...\n",
      "  Restored /workspaces/RazorInteractive/src/RazorInteractive/RazorInteractive.csproj (in 396 ms).\n",
      "  RazorInteractive -> /workspaces/RazorInteractive/src/RazorInteractive/bin/Debug/net6.0/RazorInteractive.dll\n",
      "\n",
      "Build succeeded.\n",
      "    0 Warning(s)\n",
      "    0 Error(s)\n",
      "\n",
      "Time Elapsed 00:00:02.96\n",
      "Microsoft (R) Build Engine version 17.0.0+c9eb9dd64 for .NET\n",
      "Copyright (C) Microsoft Corporation. All rights reserved.\n",
      "\n",
      "  Determining projects to restore...\n",
      "  Restored /workspaces/RazorInteractive/src/RazorInteractive/RazorInteractive.csproj (in 436 ms).\n",
      "  RazorInteractive -> /workspaces/RazorInteractive/src/RazorInteractive/bin/Debug/net6.0/RazorInteractive.dll\n",
      "  Successfully created package '/workspaces/RazorInteractive/src/RazorInteractive/bin/Debug/RazorInteractive.2021.12.11.3919.nupkg'.\n",
      "  Successfully created package '/workspaces/RazorInteractive/src/RazorInteractive/bin/Debug/RazorInteractive.2021.12.11.3919.symbols.nupkg'.\n",
      "\n",
      "    Directory: /workspaces/RazorInteractive/src/RazorInteractive/bin/Debug\n",
      "\n",
      "\u001b[32;1mUnixMode   User             Group                 LastWriteTime           Size Name\u001b[0m\n",
      "\u001b[32;1m--------   ----             -----                 -------------           ---- ----\u001b[0m\n",
      "-rw-r--r-- vscode           vscode             12/11/2021 00:10          18195 RazorInteractive.202\n",
      "                                                                               1.12.11.1000.nupkg\n",
      "-rw-r--r-- vscode           vscode             12/11/2021 00:10          31670 RazorInteractive.202\n",
      "                                                                               1.12.11.1000.symbols\n",
      "                                                                               .nupkg\n",
      "-rw-r--r-- vscode           vscode             12/11/2021 00:38          18272 RazorInteractive.202\n",
      "                                                                               1.12.11.3825.nupkg\n",
      "-rw-r--r-- vscode           vscode             12/11/2021 00:38          31745 RazorInteractive.202\n",
      "                                                                               1.12.11.3825.symbols\n",
      "                                                                               .nupkg\n",
      "-rw-r--r-- vscode           vscode             12/11/2021 00:39          18272 RazorInteractive.202\n",
      "                                                                               1.12.11.3919.nupkg\n",
      "-rw-r--r-- vscode           vscode             12/11/2021 00:39          31745 RazorInteractive.202\n",
      "                                                                               1.12.11.3919.symbols\n",
      "                                                                               .nupkg\n",
      "\n"
     ]
    }
   ],
   "source": [
    "# 0. Clean-up the bin and obj folders\n",
    "# get-childitem .. -Filter \"bin\" -recurse | foreach ($_) {remove-item $_.fullname -Force -recurse}\n",
    "# get-childitem .. -Filter \"obj\" -recurse | foreach ($_) {remove-item $_.fullname -Force -recurse}\n",
    "\n",
    "# 1. Build the project\n",
    "dotnet build ../src/RazorInteractive/RazorInteractive.csproj\n",
    "\n",
    "# Pack up the NuGet package. Note, you should increment the version because the previous one, once installed, will be in your NuGet cache\n",
    "$version = [System.DateTime]::Now.ToString(\"yyyy.MM.dd.HHmmss\")\n",
    "dotnet pack /p:PackageVersion=$version ../src/RazorInteractive/RazorInteractive.csproj\n",
    "\n",
    "# 3. Check that the package is there\n",
    "Get-ChildItem .. -Recurse *.nupkg"
   ]
  },
  {
   "cell_type": "code",
   "execution_count": null,
   "metadata": {
    "dotnet_interactive": {
     "language": "csharp"
    }
   },
   "outputs": [
    {
     "data": {
      "text/html": [
       "<div><div><strong>Restore sources</strong><ul><li><span>/workspaces/RazorInteractive/src/RazorInteractive/bin/Debug</span></li></ul></div><div></div><div><strong>Installed Packages</strong><ul><li><span>RazorInteractive, 2021.12.11.3919</span></li></ul></div></div>"
      ]
     },
     "metadata": {},
     "output_type": "display_data"
    },
    {
     "data": {
      "text/markdown": [
       "Loading extensions from `RazorInteractive.dll`"
      ]
     },
     "metadata": {},
     "output_type": "display_data"
    },
    {
     "data": {
      "text/html": [
       "\r\n",
       "<details>\r\n",
       "    <summary>Renders the code block as Razor markup in dotnet-interactive notebooks.</summary>\r\n",
       "    <p>This extension adds a new kernel that can render Razor markdown.</p>\r\n",
       "    <p>All C# and F# variables are available in the <code>@Model</code> property.</p>\r\n",
       "</details>"
      ]
     },
     "metadata": {},
     "output_type": "display_data"
    }
   ],
   "source": [
    "#i nuget:/workspaces/RazorInteractive/src/RazorInteractive/bin/Debug\n",
    "#r \"nuget:RazorInteractive\""
   ]
  },
  {
   "cell_type": "code",
   "execution_count": null,
   "metadata": {
    "dotnet_interactive": {
     "language": "csharp"
    }
   },
   "outputs": [
    {
     "data": {
      "text/html": [
       "<div id=\"razorExtension3aed1dad9f6b4ffda15c63073135ebcc\">\n",
       "<ol>\n",
       "    <li style=\"color: red;\">red</li>\n",
       "    <li style=\"color: green;\">green</li>\n",
       "    <li style=\"color: blue;\">blue</li>\n",
       "</ol></div>"
      ]
     },
     "metadata": {},
     "output_type": "display_data"
    }
   ],
   "source": [
    "#!razor\n",
    "\n",
    "@{\n",
    "    var colors = new [] { \"red\", \"green\", \"blue\" };\n",
    "}\n",
    "\n",
    "<ol>\n",
    "@foreach(var color in colors)\n",
    "{\n",
    "    <li style=\"color: @color;\">@color</li>\n",
    "}\n",
    "</ol>"
   ]
  },
  {
   "cell_type": "code",
   "execution_count": null,
   "metadata": {
    "dotnet_interactive": {
     "language": "csharp"
    }
   },
   "outputs": [],
   "source": [
    "var firstname = \"John\";\n",
    "var lastname = \"Doe\";\n",
    "var colors = new [] { \"red\", \"green\", \"blue\" };"
   ]
  },
  {
   "cell_type": "code",
   "execution_count": null,
   "metadata": {
    "dotnet_interactive": {
     "language": "csharp"
    }
   },
   "outputs": [
    {
     "data": {
      "text/html": [
       "<div id=\"razorExtension368f95bc90fc468a9e219d74123a1f00\"><p>Hello <b>John Doe</b>, what is you favorite a color?</p>\n",
       "\n",
       "<ol>\n",
       "    <li style=\"color: red;\">red</li>\n",
       "    <li style=\"color: green;\">green</li>\n",
       "    <li style=\"color: blue;\">blue</li>\n",
       "</ol></div>"
      ]
     },
     "metadata": {},
     "output_type": "display_data"
    }
   ],
   "source": [
    "#!razor\n",
    "\n",
    "<p>Hello <b>@Model.firstname @Model.lastname</b>, what is you favorite a color?</p>\n",
    "\n",
    "<ol>\n",
    "@foreach(var color in Model.colors)\n",
    "{\n",
    "    <li style=\"color: @color;\">@color</li>\n",
    "}\n",
    "</ol>"
   ]
  }
 ],
 "metadata": {
  "kernelspec": {
   "display_name": ".NET (C#)",
   "language": "C#",
   "name": ".net-csharp"
  },
  "language_info": {
   "name": "C#"
  }
 },
 "nbformat": 4,
 "nbformat_minor": 2
}
