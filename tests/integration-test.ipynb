{
 "cells": [
  {
   "cell_type": "code",
   "execution_count": 1,
   "metadata": {
    "dotnet_interactive": {
     "language": "pwsh"
    }
   },
   "outputs": [
    {
     "name": "stdout",
     "output_type": "stream",
     "text": [
      "MSBuild version 17.8.3+195e7f5a3 for .NET\n",
      "  Determining projects to restore...\n",
      "  Restored /workspaces/RazorInteractive/src/RazorInteractive/RazorInteractive.csproj (in 204 ms).\n",
      "/usr/share/dotnet/sdk/8.0.100/Sdks/Microsoft.NET.Sdk/targets/Microsoft.NET.Sdk.targets(284,5): warning NETSDK1206: Found version-specific or distribution-specific runtime identifier(s): alpine-x64. Affected libraries: SQLitePCLRaw.lib.e_sqlite3. In .NET 8.0 and higher, assets for version-specific and distribution-specific runtime identifiers will not be found by default. See https://aka.ms/dotnet/rid-usage for details. [/workspaces/RazorInteractive/src/RazorInteractive/RazorInteractive.csproj]\n",
      "  RazorInteractive -> /workspaces/RazorInteractive/src/RazorInteractive/bin/Release/net8.0/RazorInteractive.dll\n",
      "  The package RazorInteractive.2023.12.29.200707 is missing a readme. Go to https://aka.ms/nuget/authoring-best-practices/readme to learn why package readmes are important.\n",
      "  Successfully created package '/workspaces/RazorInteractive/src/RazorInteractive/bin/Release/RazorInteractive.2023.12.29.200707.nupkg'.\n",
      "\n",
      "    Directory: /workspaces/RazorInteractive/src/RazorInteractive/bin/Release\n",
      "\n",
      "\u001b[32;1mUnixMode  \u001b[0m\u001b[32;1m       User\u001b[0m\u001b[32;1m Group     \u001b[0m\u001b[32;1m    LastWriteTime\u001b[0m\u001b[32;1m         Size\u001b[0m\u001b[32;1m Name\u001b[0m\n",
      "\u001b[32;1m--------  \u001b[0m \u001b[32;1m      ----\u001b[0m \u001b[32;1m-----     \u001b[0m \u001b[32;1m   -------------\u001b[0m \u001b[32;1m        ----\u001b[0m \u001b[32;1m----\u001b[0m\n",
      "-rw-r--r--     vscode vscode     12/29/2023 20:07        18566 \u001b[31;1mRazorInteractive.2023.12.29.200707.n\u001b[0m\n",
      "                                                               \u001b[31;1mupkg\u001b[0m\n",
      "\n"
     ]
    }
   ],
   "source": [
    "# 0. Clean-up the bin and obj folders\n",
    "Get-ChildItem .. -Include bin,obj -Recurse | Remove-Item -Force -Recurse\n",
    "\n",
    "# 1. Pack up the NuGet package. Note, you should increment the version because the previous one, once installed, will be in your NuGet cache\n",
    "$version = [System.DateTime]::Now.ToString(\"yyyy.MM.dd.HHmmss\")\n",
    "dotnet pack /p:PackageVersion=$version ../src/RazorInteractive/RazorInteractive.csproj\n",
    "\n",
    "# 2. Check that the package is there\n",
    "Get-ChildItem .. -Recurse *.nupkg"
   ]
  },
  {
   "cell_type": "code",
   "execution_count": 2,
   "metadata": {
    "dotnet_interactive": {
     "language": "csharp"
    }
   },
   "outputs": [
    {
     "data": {
      "text/html": [
       "<div><div><strong>Restore sources</strong><ul><li><span>/workspaces/RazorInteractive/src/RazorInteractive/bin/Release</span></li></ul></div><div></div><div><strong>Installed Packages</strong><ul><li><span>RazorInteractive, 2023.12.29.200707</span></li></ul></div></div>"
      ]
     },
     "metadata": {},
     "output_type": "display_data"
    },
    {
     "data": {
      "text/plain": [
       "Loading extensions from `/home/vscode/.nuget/packages/razorinteractive/2023.12.29.200707/lib/net8.0/RazorInteractive.dll`"
      ]
     },
     "metadata": {},
     "output_type": "display_data"
    },
    {
     "data": {
      "text/html": [
       "<details>\r\n",
       "    <summary>Renders the code block as Razor markup in dotnet-interactive notebooks.</summary>\r\n",
       "    <p>This extension adds a new kernel that can render Razor markdown.</p>\r\n",
       "    <p>All C# and F# variables are available in the <code>@Model</code> property.</p>\r\n",
       "</details>"
      ]
     },
     "metadata": {},
     "output_type": "display_data"
    }
   ],
   "source": [
    "#i nuget:/workspaces/RazorInteractive/src/RazorInteractive/bin/Release\n",
    "#r \"nuget:RazorInteractive\""
   ]
  },
  {
   "cell_type": "code",
   "execution_count": 3,
   "metadata": {
    "dotnet_interactive": {
     "language": "csharp"
    }
   },
   "outputs": [
    {
     "data": {
      "text/html": [
       "<div id=\"razorExtension974d67e941ab44d8874cc5e016b46ca7\">\n",
       "<ol>\n",
       "    <li style=\"color: red;\">red</li>\n",
       "    <li style=\"color: green;\">green</li>\n",
       "    <li style=\"color: blue;\">blue</li>\n",
       "</ol></div>"
      ]
     },
     "metadata": {},
     "output_type": "display_data"
    }
   ],
   "source": [
    "#!razor\n",
    "\n",
    "@{\n",
    "    var colors = new [] { \"red\", \"green\", \"blue\" };\n",
    "}\n",
    "\n",
    "<ol>\n",
    "@foreach(var color in colors)\n",
    "{\n",
    "    <li style=\"color: @color;\">@color</li>\n",
    "}\n",
    "</ol>"
   ]
  },
  {
   "cell_type": "code",
   "execution_count": 4,
   "metadata": {
    "dotnet_interactive": {
     "language": "csharp"
    }
   },
   "outputs": [],
   "source": [
    "var firstname = \"John\";\n",
    "var lastname = \"Doe\";\n",
    "var colors = new [] { \"red\", \"green\", \"blue\" };"
   ]
  },
  {
   "cell_type": "code",
   "execution_count": 5,
   "metadata": {
    "dotnet_interactive": {
     "language": "csharp"
    }
   },
   "outputs": [
    {
     "data": {
      "text/html": [
       "<div id=\"razorExtensionbf66037060a34e63bfa31a385f316881\"><p>Hello <b>John Doe</b>, what is you favorite a color?</p>\n",
       "\n",
       "<ol>\n",
       "    <li style=\"color: red;\">red</li>\n",
       "    <li style=\"color: green;\">green</li>\n",
       "    <li style=\"color: blue;\">blue</li>\n",
       "</ol></div>"
      ]
     },
     "metadata": {},
     "output_type": "display_data"
    }
   ],
   "source": [
    "#!razor\n",
    "\n",
    "<p>Hello <b>@Model.firstname @Model.lastname</b>, what is you favorite a color?</p>\n",
    "\n",
    "<ol>\n",
    "@foreach(var color in Model.colors)\n",
    "{\n",
    "    <li style=\"color: @color;\">@color</li>\n",
    "}\n",
    "</ol>"
   ]
  }
 ],
 "metadata": {
  "kernelspec": {
   "display_name": ".NET (C#)",
   "language": "C#",
   "name": ".net-csharp"
  },
  "language_info": {
   "name": "polyglot-notebook"
  },
  "polyglot_notebook": {
   "kernelInfo": {
    "defaultKernelName": "csharp",
    "items": [
     {
      "aliases": [],
      "name": "csharp"
     },
     {
      "aliases": [],
      "name": "razor"
     }
    ]
   }
  }
 },
 "nbformat": 4,
 "nbformat_minor": 2
}
